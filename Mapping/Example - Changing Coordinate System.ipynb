{
 "cells": [
  {
   "cell_type": "markdown",
   "metadata": {},
   "source": [
    "# Mobile Robotics - Mapping\n",
    "### local coordinate system to global coordinate system\n",
    "\n",
    "When facing the challenge to map an environment, a mobile robot must navigate and acquire data from its sensors to be able to reconstruct some aspects of the area. Our goal here is to create a global map from sensor readings acquired while navigating but in a local coordinate system, relative to the robot's perspective.\n",
    "\n",
    "The following code is an example on how to translate such coordinates in order to incorporate all local measurements in one global map."
   ]
  },
  {
   "cell_type": "code",
   "execution_count": 13,
   "metadata": {},
   "outputs": [],
   "source": [
    "import numpy as np\n",
    "# measurements = [101, 101, 101, 101, 102, 107, 107,\n",
    "#                108, 108, 108, 108, 108, 108, 109, \n",
    "#                109, 109, 109, 110, 110, 110, 111,\n",
    "#                255, 255, 255, 255, 44, 43, 43, 42,\n",
    "#                42, 41, 41, 41, 41, 40, 40, 40, 40,\n",
    "#                40, 40, 40, 40, 40, 39, 39, 39, 39,\n",
    "#                39, 39, 39, 39, 39, 39, 39, 40, 40,\n",
    "#                40, 40, 40, 40, 40, 40, 40, 41, 41,\n",
    "#                41, 41, 42, 42, 42, 42, 43, 43, 43,\n",
    "#                43, 44, 44, 44, 45, 46, 47, 255, 255,\n",
    "#                55, 255, 255, 255, 255, 255, 255, 255]\n",
    "measurements = []\n",
    "for i in range(91):\n",
    "    if ((i * 2) / 60.0 < 2) and ((i * 2) / 60.0 > 1):\n",
    "        measurements.append(30)\n",
    "    else:\n",
    "        measurements.append(255)\n",
    "\n",
    "for angle, dist in enumerate(measurements):\n",
    "    '''\n",
    "    After this loop 'measurements' will be a list of tuples\n",
    "    with Cartesian coordinates\n",
    "    '''\n",
    "    x = np.cos(np.radians(angle * 2)) * dist\n",
    "    y = np.sin(np.radians(angle * 2)) * dist\n",
    "    measurements[angle] = (x, y)\n",
    "\n",
    "    '''\n",
    "    Measurements has now local coordinates related to a\n",
    "    fullScan command.\n",
    "    Local coordinate system = robot coordinate system\n",
    "\n",
    "    Nota mental: passar isso para o Jupyter notebook para\n",
    "    plotar os mapas\n",
    "    '''"
   ]
  },
  {
   "cell_type": "code",
   "execution_count": 14,
   "metadata": {},
   "outputs": [],
   "source": [
    "rx = 30 # robot position in global reference frame\n",
    "ry = 0 # robot position in global reference frame\n",
    "\n",
    "rotation = 0\n",
    "\n",
    "measurements_global_0 = []\n",
    "for ang, coord in enumerate(measurements):\n",
    "    gx = np.cos(np.radians(rotation)) * coord[0] - np.sin(np.radians(rotation)) * coord[1] + rx\n",
    "    gy = np.sin(np.radians(rotation)) * coord[0] + np.cos(np.radians(rotation)) * coord[1] + ry\n",
    "    measurements_global_0.append((gx, gy))"
   ]
  },
  {
   "cell_type": "code",
   "execution_count": 15,
   "metadata": {},
   "outputs": [
    {
     "data": {
      "image/png": "[encoded data removed]",
      "text/plain": [
       "<matplotlib.figure.Figure at 0x2a5baa80c50>"
      ]
     },
     "metadata": {},
     "output_type": "display_data"
    }
   ],
   "source": [
    "import matplotlib.pyplot as plt\n",
    "plt.scatter(*zip(*measurements_global_0))\n",
    "plt.show()"
   ]
  },
  {
   "cell_type": "code",
   "execution_count": 16,
   "metadata": {},
   "outputs": [],
   "source": [
    "rx = 70 # robot position in global reference frame\n",
    "ry = 60 # robot position in global reference frame\n",
    "\n",
    "rotation = 90\n",
    "\n",
    "measurements_global_30 = []\n",
    "for ang, coord in enumerate(measurements):\n",
    "    gx = np.cos(np.radians(rotation)) * coord[0] - np.sin(np.radians(rotation)) * coord[1] + rx\n",
    "    gy = np.sin(np.radians(rotation)) * coord[0] + np.cos(np.radians(rotation)) * coord[1] + ry\n",
    "    measurements_global_30.append((gx, gy))"
   ]
  },
  {
   "cell_type": "code",
   "execution_count": 17,
   "metadata": {
    "scrolled": true
   },
   "outputs": [],
   "source": [
    "import matplotlib.pyplot as plt\n",
    "plt.scatter(*zip(*measurements_global_30))\n",
    "plt.plot(70, 60, marker='<', color=\"blue\");\n",
    "#plt.show()"
   ]
  },
  {
   "cell_type": "code",
   "execution_count": 18,
   "metadata": {
    "scrolled": true
   },
   "outputs": [],
   "source": [
    "import matplotlib.pyplot as plt\n",
    "#plt.scatter(*zip(*(measurements_global_30+measurements_global_0)))\n",
    "plt.scatter(*zip(*(measurements_global_0)))\n",
    "plt.plot(30, 0, marker='^', color=\"orange\");\n",
    "#plt.show()"
   ]
  },
  {
   "cell_type": "code",
   "execution_count": 19,
   "metadata": {},
   "outputs": [],
   "source": [
    "rx = -10 # robot position in global reference frame\n",
    "ry = 60 # robot position in global reference frame\n",
    "\n",
    "rotation = -90\n",
    "\n",
    "measurements_global_90 = []\n",
    "for ang, coord in enumerate(measurements):\n",
    "    gx = np.cos(np.radians(rotation)) * coord[0] - np.sin(np.radians(rotation)) * coord[1] + rx\n",
    "    gy = np.sin(np.radians(rotation)) * coord[0] + np.cos(np.radians(rotation)) * coord[1] + ry\n",
    "    measurements_global_90.append((gx, gy))"
   ]
  },
  {
   "cell_type": "code",
   "execution_count": 20,
   "metadata": {
    "scrolled": true
   },
   "outputs": [],
   "source": [
    "import matplotlib.pyplot as plt\n",
    "plt.scatter(*zip(*measurements_global_90))\n",
    "plt.plot(-10, 60, marker='>', color=\"green\");\n",
    "#plt.show()"
   ]
  },
  {
   "cell_type": "code",
   "execution_count": 21,
   "metadata": {
    "scrolled": true
   },
   "outputs": [],
   "source": [
    "import matplotlib.pyplot as plt\n",
    "#plt.scatter(*zip(*(measurements_global_30+measurements_global_0+measurements_global_90)))\n",
    "#plt.show()"
   ]
  },
  {
   "cell_type": "code",
   "execution_count": 22,
   "metadata": {},
   "outputs": [],
   "source": [
    "rx = 30 # robot position in global reference frame\n",
    "ry = 120 # robot position in global reference frame\n",
    "\n",
    "rotation = -180 # or +180, it does not make any difference \n",
    "\n",
    "measurements_global_180 = []\n",
    "for ang, coord in enumerate(measurements):\n",
    "    gx = np.cos(np.radians(rotation)) * coord[0] - np.sin(np.radians(rotation)) * coord[1] + rx\n",
    "    gy = np.sin(np.radians(rotation)) * coord[0] + np.cos(np.radians(rotation)) * coord[1] + ry\n",
    "    measurements_global_180.append((gx, gy))"
   ]
  },
  {
   "cell_type": "code",
   "execution_count": 23,
   "metadata": {
    "scrolled": false
   },
   "outputs": [],
   "source": [
    "import matplotlib.pyplot as plt\n",
    "plt.scatter(*zip(*measurements_global_180))\n",
    "plt.plot(30, 120, marker='v', color=\"red\");\n",
    "#plt.show()"
   ]
  },
  {
   "cell_type": "markdown",
   "metadata": {},
   "source": [
    "##### Plotting all local measurements translated to global coordinates. \n",
    "    Colored triangles represents a robot's position and heading while taking the color equivalent measurement."
   ]
  },
  {
   "cell_type": "markdown",
   "metadata": {},
   "source": [
    "<img src=\"robot-orient.jpg\">"
   ]
  },
  {
   "cell_type": "code",
   "execution_count": 24,
   "metadata": {
    "scrolled": true
   },
   "outputs": [
    {
     "data": {
      "image/png": "[encoded data removed]",
      "text/plain": [
       "<matplotlib.figure.Figure at 0x2a5baae5668>"
      ]
     },
     "metadata": {},
     "output_type": "display_data"
    }
   ],
   "source": [
    "import matplotlib.pyplot as plt\n",
    "#plt.scatter(*zip(*(measurements_global_30+measurements_global_0+measurements_global_90+measurements_global_180)))\n",
    "plt.show()"
   ]
  },
  {
   "cell_type": "code",
   "execution_count": null,
   "metadata": {},
   "outputs": [],
   "source": []
  }
 ],
 "metadata": {
  "kernelspec": {
   "display_name": "Python 3",
   "language": "python",
   "name": "python3"
  },
  "language_info": {
   "codemirror_mode": {
    "name": "ipython",
    "version": 3
   },
   "file_extension": ".py",
   "mimetype": "text/x-python",
   "name": "python",
   "nbconvert_exporter": "python",
   "pygments_lexer": "ipython3",
   "version": "3.6.2"
  }
 },
 "nbformat": 4,
 "nbformat_minor": 2
}
